{
 "cells": [
  {
   "cell_type": "markdown",
   "metadata": {},
   "source": [
    "# Ejercicio 1"
   ]
  },
  {
   "cell_type": "code",
   "execution_count": null,
   "metadata": {},
   "outputs": [],
   "source": [
    "from math import ceil\n",
    "tierra = 149597870\n",
    "jupiter = 778547200\n",
    "distanciaKM = tierra - jupiter\n",
    "print('La distancia entre la tierra y jupiter es:')\n",
    "print('En kilometros')\n",
    "print(str(abs(distanciaKM))+\" Km\")\n",
    "distanciaMI = distanciaKM * 0.621\n",
    "print('En Millas')\n",
    "print(str(ceil(abs(distanciaMI)))+ \" Mi\")"
   ]
  },
  {
   "cell_type": "markdown",
   "metadata": {},
   "source": [
    "# Ejercicio 2"
   ]
  },
  {
   "cell_type": "code",
   "execution_count": 33,
   "metadata": {},
   "outputs": [
    {
     "name": "stdout",
     "output_type": "stream",
     "text": [
      "Calcular la distancia del sol entre cada planeta\n",
      "La distancia entre los dos planeta en kilometros\n",
      "-390577533.93 KM\n",
      "La distancia entre los dos planeta en millas\n",
      "48624300.0 Mi\n"
     ]
    }
   ],
   "source": [
    "print('Calcular la distancia del sol entre cada planeta')\n",
    "Primer_planeta = input(\"Escribe la distancia del primer planeta en kilometros\")\n",
    "Primer_planeta = int (Primer_planeta)\n",
    "Segundo_planeta = input(\"Escribe la distancia del segundo planeta en kilometros\")\n",
    "Segundo_planeta = int(Segundo_planeta)\n",
    "\n",
    "Distancia = Primer_planeta - Segundo_planeta\n",
    "Millas = Distancia * 0.621\n",
    "\n",
    "print(\"La distancia entre los dos planeta en kilometros\")\n",
    "print(str(distancia) + \" KM\")\n",
    "print(\"La distancia entre los dos planeta en millas\")\n",
    "print(str(abs(Millas)) + \" Mi\")\n"
   ]
  }
 ],
 "metadata": {
  "interpreter": {
   "hash": "01d9fbea0f8214596c4e6bd3f87db0a1a50f8a3ff3affc380f352c86c3783a96"
  },
  "kernelspec": {
   "display_name": "Python 3.9.10 64-bit (windows store)",
   "language": "python",
   "name": "python3"
  },
  "language_info": {
   "codemirror_mode": {
    "name": "ipython",
    "version": 3
   },
   "file_extension": ".py",
   "mimetype": "text/x-python",
   "name": "python",
   "nbconvert_exporter": "python",
   "pygments_lexer": "ipython3",
   "version": "3.9.10"
  },
  "orig_nbformat": 4
 },
 "nbformat": 4,
 "nbformat_minor": 2
}
