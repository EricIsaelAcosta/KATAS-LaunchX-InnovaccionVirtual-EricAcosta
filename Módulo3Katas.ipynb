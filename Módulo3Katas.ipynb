{
 "cells": [
  {
   "cell_type": "markdown",
   "metadata": {},
   "source": [
    "# Ejercicio 1"
   ]
  },
  {
   "cell_type": "code",
   "execution_count": 2,
   "metadata": {},
   "outputs": [
    {
     "name": "stdout",
     "output_type": "stream",
     "text": [
      "¡Cuidado se acerca un asteroide!\n"
     ]
    }
   ],
   "source": [
    "asteroide = 49\n",
    "if (asteroide > 25):\n",
    "    print(\"¡Cuidado se acerca un asteroide!\")\n",
    "else:\n",
    "    print(\"Todo tranquilo\")\n"
   ]
  },
  {
   "cell_type": "markdown",
   "metadata": {},
   "source": [
    "# Ejercicio 2"
   ]
  },
  {
   "cell_type": "code",
   "execution_count": 5,
   "metadata": {},
   "outputs": [
    {
     "name": "stdout",
     "output_type": "stream",
     "text": [
      "¡Mira al cielo se acerca un asteroide!\n"
     ]
    }
   ],
   "source": [
    "asteroide = 19\n",
    "if (asteroide > 20):\n",
    "    print(\"¡Mira al cielo se acerca un asteroide!\")\n",
    "elif(asteroide == 20):\n",
    "    print(\"¡Mira al cielo se acerca un asteroide!\")\n",
    "else:\n",
    "    print(\"Todo tranquilo\")   "
   ]
  },
  {
   "cell_type": "markdown",
   "metadata": {},
   "source": [
    "# Ejercicio 3"
   ]
  },
  {
   "cell_type": "code",
   "execution_count": 11,
   "metadata": {},
   "outputs": [
    {
     "name": "stdout",
     "output_type": "stream",
     "text": [
      "¡Planeta en peligro!\n"
     ]
    }
   ],
   "source": [
    "Asteroide_Velocidad = 19\n",
    "asteroide_Tamaño = 50\n",
    "\n",
    "if(asteroide_Tamaño > 25 and Asteroide_Velocidad < 25):\n",
    "    print(\"¡Planeta en peligro!\")\n",
    "elif(Asteroide_Velocidad >= 20):\n",
    "    print(\"¡Luces en el cielo!\")\n",
    "elif(asteroide_Tamaño < 25):\n",
    "    print(\"Todo tranquilo\")\n",
    "else:\n",
    "    print(\"Todo tranquilo\")"
   ]
  }
 ],
 "metadata": {
  "interpreter": {
   "hash": "01d9fbea0f8214596c4e6bd3f87db0a1a50f8a3ff3affc380f352c86c3783a96"
  },
  "kernelspec": {
   "display_name": "Python 3.9.10 64-bit (windows store)",
   "language": "python",
   "name": "python3"
  },
  "language_info": {
   "codemirror_mode": {
    "name": "ipython",
    "version": 3
   },
   "file_extension": ".py",
   "mimetype": "text/x-python",
   "name": "python",
   "nbconvert_exporter": "python",
   "pygments_lexer": "ipython3",
   "version": "3.10.2"
  },
  "orig_nbformat": 4
 },
 "nbformat": 4,
 "nbformat_minor": 2
}
